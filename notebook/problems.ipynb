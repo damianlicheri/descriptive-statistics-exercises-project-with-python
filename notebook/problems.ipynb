{
    "cells": [
        {
            "cell_type": "markdown",
            "id": "ac622319",
            "metadata": {},
            "source": [
                "# Descriptive statistics problems"
            ]
        },
        {
            "cell_type": "markdown",
            "id": "5e0ab0d5",
            "metadata": {},
            "source": [
                "### Exercise 1\n",
                "\n",
                "We will use NumPy to obtain information to describe statistically.\n",
                "\n",
                "- Generate an array of 100 elements following a normal distribution.\n",
                "- Generate an array of 100 elements following a chi-square distribution with 3 degrees of freedom.\n",
                "- Calculate the main metrics and statistical measures that best describe the two vectors."
            ]
        },
        {
            "cell_type": "code",
            "execution_count": 1,
            "id": "34720ab6",
            "metadata": {},
            "outputs": [
                {
                    "name": "stdout",
                    "output_type": "stream",
                    "text": [
                        "Normal vector: [-0.6075477  -0.12613641 -0.68460636  0.92871475 -1.84440103 -0.46700242\n",
                        "  2.29249034  0.48881005  0.71026699  1.05553444  0.0540731   0.25795342\n",
                        "  0.58828165  0.88524424 -1.01700702 -0.13369303 -0.4381855   0.49344349\n",
                        " -0.19900912 -1.27498361  0.29349415  0.10895031  0.03172679  1.27263986\n",
                        "  1.0714479   0.41581801  1.55067923 -0.31137892 -1.37923991  1.37140879\n",
                        "  0.02771165 -0.32039958 -0.84617041 -0.43342892 -1.3370345   0.20917217\n",
                        " -1.4243213  -0.55347685  0.07479864 -0.50561983  1.05240778  0.97140041\n",
                        "  0.07683154 -0.43500078  0.5529944   0.26671631  0.00898941  0.64110275\n",
                        " -0.17770716  0.69627761 -1.1887251  -0.33169686  0.03007614 -1.10791517\n",
                        " -0.5499249  -2.03290956  1.4079178   0.63310826  2.21274689 -0.52660228\n",
                        "  0.54288168 -0.0844797   1.29201502 -0.17671057  1.68778715 -1.04661354\n",
                        "  0.64212021 -0.17296174 -1.11206497 -0.02070278 -1.81352177  0.20352189\n",
                        "  0.53187404 -1.01702346 -1.84805054  0.17254907  0.78620153 -0.07147003\n",
                        "  0.83634877 -0.19822889 -0.09227256  0.87072588 -0.83919248  0.82325537\n",
                        "  0.70175236  0.59836051 -0.50799497  0.13613812 -1.49211459  0.61166554\n",
                        "  1.36952759 -1.70273142 -0.51878098 -1.23470323 -2.88099459 -0.01572328\n",
                        " -1.69268465 -0.61963465  0.87432517  1.71951901]\n",
                        "Chi-square vector: [2.40819503 0.93851566 2.61739521 2.01465964 4.54666175 0.88894524\n",
                        " 1.97747846 6.51117928 3.40763261 1.05550905 0.30934539 0.84792823\n",
                        " 1.0804228  3.22932029 3.80323245 0.56675608 1.03205549 1.65166422\n",
                        " 2.85301554 3.08814092 7.92151234 2.72838241 3.05346567 1.60578889\n",
                        " 4.72046935 4.41803556 0.14732156 1.20607935 1.08494385 7.86420951\n",
                        " 0.92466463 0.71178251 1.06897443 1.95339475 1.69631461 4.53785392\n",
                        " 4.93941246 1.3446032  1.4900688  0.47085306 1.82113699 0.43104671\n",
                        " 2.51663924 1.81517818 0.49898542 1.99118415 3.72354978 4.59084441\n",
                        " 4.78352073 4.50693126 8.57954856 5.23089031 0.71824177 2.51345716\n",
                        " 2.36282846 0.40128221 3.05781725 5.96357283 6.11062088 8.37875912\n",
                        " 4.00608815 0.54277942 7.56855    6.35171631 0.24757436 3.44686233\n",
                        " 0.72847097 0.37619434 9.59498278 3.22226634 1.20732448 1.83991074\n",
                        " 0.39345265 2.28190696 3.87444011 0.19306935 6.04195148 4.08612432\n",
                        " 3.34664418 0.63068429 0.02671798 2.08438085 1.82641089 0.98318364\n",
                        " 0.28530415 0.90697626 3.46707403 4.60040323 2.02350465 9.62013754\n",
                        " 0.36001534 0.26409276 4.85355097 1.46378562 3.16577147 1.47804901\n",
                        " 0.23841579 1.73714657 2.32991311 0.751834  ]\n",
                        "Normal mean: -0.022789814366585885\n",
                        "Chi mean: 2.7115988106973057\n",
                        "Normal median: 0.018350530329018174\n",
                        "Chi median: 2.002921897518799\n",
                        "Normal mode: -0.6075476972112264\n",
                        "Chi mode: 2.4081950302585486\n",
                        "Normal range: 5.173484932704628\n",
                        "Normal chi: 9.593419555939674\n",
                        "Normal variance: 0.9555380164731989 and std: 0.9775162487003471\n",
                        "Chi variance: 5.307372977695415 and std: 2.3037736385538\n",
                        "Normal skewness: -0.21116592928516126\n",
                        "Chi skewness: 1.1587021564986157\n",
                        "Normal kurtosis: -0.014446891385965444\n",
                        "Chi kurtosis: 0.7852313317464592\n"
                    ]
                }
            ],
            "source": [
                "# TODO\n",
                "import pandas as pd\n",
                "import numpy as np \n",
                "\n",
                "np.random.seed(40)\n",
                "\n",
                "normal = np.random.normal(size = 100)\n",
                "chi = np.random.chisquare(3, 100)\n",
                "\n",
                "print(f\"Normal vector: {normal}\")\n",
                "print(f\"Chi-square vector: {chi}\")\n",
                "\n",
                "#Mean\n",
                "\n",
                "import statistics as stats\n",
                "\n",
                "print(f\"Normal mean: {stats.mean(normal)}\")\n",
                "print(f\"Chi mean: {stats.mean(chi)}\")\n",
                "\n",
                "#Median\n",
                "\n",
                "print(f\"Normal median: {stats.median(normal)}\")\n",
                "print(f\"Chi median: {stats.median(chi)}\")\n",
                "\n",
                "#Mode\n",
                "\n",
                "print(f\"Normal mode: {stats.mode(normal)}\")\n",
                "print(f\"Chi mode: {stats.mode(chi)}\")\n",
                "\n",
                "\n",
                "#Measures of dispersion\n",
                "#Range\n",
                "\n",
                "range_normal = max(normal) - min(normal)\n",
                "range_chi = max(chi) - min(chi)\n",
                "print(f\"Normal range: {range_normal}\")\n",
                "print(f\"Normal chi: {range_chi}\")\n",
                "\n",
                "#Variance and standard deviation\n",
                "\n",
                "var_normal = stats.variance(normal)\n",
                "std_normal = stats.stdev(normal)\n",
                "var_chi = stats.variance(chi)\n",
                "std_chi = stats.stdev(chi)\n",
                "\n",
                "print(f\"Normal variance: {var_normal} and std: {std_normal}\")\n",
                "print(f\"Chi variance: {var_chi} and std: {std_chi}\")\n",
                "\n",
                "#Shape measures\n",
                "#Skewness\n",
                "\n",
                "from scipy.stats import skew\n",
                "\n",
                "skew_normal = skew(normal)\n",
                "skew_chi = skew(chi)\n",
                "\n",
                "print(f\"Normal skewness: {skew_normal}\")\n",
                "print(f\"Chi skewness: {skew_chi}\")\n",
                "\n",
                "#Kurtosis\n",
                "\n",
                "from scipy.stats import kurtosis\n",
                "\n",
                "kurt_normal = kurtosis(normal)\n",
                "kurt_chi = kurtosis(chi)\n",
                "\n",
                "print(f\"Normal kurtosis: {kurt_normal}\")\n",
                "print(f\"Chi kurtosis: {kurt_chi}\")"
            ]
        },
        {
            "cell_type": "markdown",
            "id": "46c70c3d",
            "metadata": {},
            "source": [
                "### Exercise 2\n",
                "\n",
                "Write a Python program to calculate the standard deviation of the following data:\n",
                "\n",
                "```py\n",
                "data = [4, 2, 5, 8, 6]\n",
                "```"
            ]
        },
        {
            "cell_type": "code",
            "execution_count": 3,
            "id": "d590308e",
            "metadata": {},
            "outputs": [
                {
                    "name": "stdout",
                    "output_type": "stream",
                    "text": [
                        "Standard deviation: 2.00\n"
                    ]
                }
            ],
            "source": [
                "# TODO\n",
                "import numpy as np\n",
                "\n",
                "# Sample data\n",
                "data = [4, 2, 5, 8, 6]\n",
                "\n",
                "# Calculate the standard deviation using NumPy\n",
                "standard_deviation = np.std(data)\n",
                "\n",
                "# Print the standard deviation\n",
                "print(f\"Standard deviation: {standard_deviation:.2f}\")"
            ]
        }
    ],
    "metadata": {
        "interpreter": {
            "hash": "9248718ffe6ce6938b217e69dbcc175ea21f4c6b28a317e96c05334edae734bb"
        },
        "kernelspec": {
            "display_name": "Python 3.9.12 ('ML-BOOTCAMP')",
            "language": "python",
            "name": "python3"
        },
        "language_info": {
            "codemirror_mode": {
                "name": "ipython",
                "version": 3
            },
            "file_extension": ".py",
            "mimetype": "text/x-python",
            "name": "python",
            "nbconvert_exporter": "python",
            "pygments_lexer": "ipython3",
            "version": "3.12.3"
        }
    },
    "nbformat": 4,
    "nbformat_minor": 5
}
