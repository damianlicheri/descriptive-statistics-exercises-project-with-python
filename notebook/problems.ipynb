{
    "cells": [
        {
            "cell_type": "markdown",
            "id": "ac622319",
            "metadata": {},
            "source": [
                "# Descriptive statistics problems"
            ]
        },
        {
            "cell_type": "markdown",
            "id": "5e0ab0d5",
            "metadata": {},
            "source": [
                "### Exercise 1\n",
                "\n",
                "We will use NumPy to obtain information to describe statistically.\n",
                "\n",
                "- Generate an array of 100 elements following a normal distribution.\n",
                "- Generate an array of 100 elements following a chi-square distribution with 3 degrees of freedom.\n",
                "- Calculate the main metrics and statistical measures that best describe the two vectors."
            ]
        },
        {
            "cell_type": "code",
            "execution_count": 2,
            "id": "34720ab6",
            "metadata": {},
            "outputs": [
                {
                    "name": "stdout",
                    "output_type": "stream",
                    "text": [
                        "Normal distribution:\n",
                        "Mean: -0.25944293626253245\n",
                        "Median: -0.40862982956142635\n",
                        "Standard deviation: 0.9536244851594425\n",
                        "Variance: 0.9093996586956118\n",
                        "Minimum: -2.7763368143942215\n",
                        "Maximum: 2.317046597685163\n",
                        "\n",
                        "Chi-square distribution:\n",
                        "Mean: 3.0918948197539478\n",
                        "Median: 2.2437161791115594\n",
                        "Standard deviation: 2.45744513210113\n",
                        "Variance: 6.039036577287541\n",
                        "Minimum: 0.1122336003476499\n",
                        "Maximum: 10.439899597492984\n"
                    ]
                }
            ],
            "source": [
                "# TODO\n",
                "import pandas as pd\n",
                "import numpy as np \n",
                "\n",
                "from scipy import stats\n",
                "\n",
                "# Generate arrays\n",
                "normal_array = np.random.normal(loc=0, scale=1, size=100)\n",
                "chi_square_array = stats.chi2.rvs(df=3, size=100)\n",
                "\n",
                "# Main metrics and statistical measures\n",
                "print(\"Normal distribution:\")\n",
                "print(f\"Mean: {normal_array.mean()}\")\n",
                "print(f\"Median: {np.median(normal_array)}\")\n",
                "print(f\"Standard deviation: {normal_array.std()}\")\n",
                "print(f\"Variance: {normal_array.var()}\")\n",
                "print(f\"Minimum: {normal_array.min()}\")\n",
                "print(f\"Maximum: {normal_array.max()}\")\n",
                "\n",
                "print(\"\\nChi-square distribution:\")\n",
                "print(f\"Mean: {chi_square_array.mean()}\")\n",
                "print(f\"Median: {np.median(chi_square_array)}\")\n",
                "print(f\"Standard deviation: {chi_square_array.std()}\")\n",
                "print(f\"Variance: {chi_square_array.var()}\")\n",
                "print(f\"Minimum: {chi_square_array.min()}\")\n",
                "print(f\"Maximum: {chi_square_array.max()}\")"
            ]
        },
        {
            "cell_type": "markdown",
            "id": "46c70c3d",
            "metadata": {},
            "source": [
                "### Exercise 2\n",
                "\n",
                "Write a Python program to calculate the standard deviation of the following data:\n",
                "\n",
                "```py\n",
                "data = [4, 2, 5, 8, 6]\n",
                "```"
            ]
        },
        {
            "cell_type": "code",
            "execution_count": 3,
            "id": "d590308e",
            "metadata": {},
            "outputs": [
                {
                    "name": "stdout",
                    "output_type": "stream",
                    "text": [
                        "Standard deviation: 2.00\n"
                    ]
                }
            ],
            "source": [
                "# TODO\n",
                "import numpy as np\n",
                "\n",
                "# Sample data\n",
                "data = [4, 2, 5, 8, 6]\n",
                "\n",
                "# Calculate the standard deviation using NumPy\n",
                "standard_deviation = np.std(data)\n",
                "\n",
                "# Print the standard deviation\n",
                "print(f\"Standard deviation: {standard_deviation:.2f}\")"
            ]
        }
    ],
    "metadata": {
        "interpreter": {
            "hash": "9248718ffe6ce6938b217e69dbcc175ea21f4c6b28a317e96c05334edae734bb"
        },
        "kernelspec": {
            "display_name": "Python 3.9.12 ('ML-BOOTCAMP')",
            "language": "python",
            "name": "python3"
        },
        "language_info": {
            "codemirror_mode": {
                "name": "ipython",
                "version": 3
            },
            "file_extension": ".py",
            "mimetype": "text/x-python",
            "name": "python",
            "nbconvert_exporter": "python",
            "pygments_lexer": "ipython3",
            "version": "3.12.3"
        }
    },
    "nbformat": 4,
    "nbformat_minor": 5
}
